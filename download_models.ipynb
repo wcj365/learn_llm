{
  "nbformat": 4,
  "nbformat_minor": 0,
  "metadata": {
    "colab": {
      "provenance": [],
      "authorship_tag": "ABX9TyPTYvdr28uMeZOH1+R5namM",
      "include_colab_link": true
    },
    "kernelspec": {
      "name": "python3",
      "display_name": "Python 3"
    },
    "language_info": {
      "name": "python"
    },
  "cells": [
    {
      "cell_type": "markdown",
      "metadata": {
        "id": "view-in-github",
        "colab_type": "text"
      },
      "source": [
        "<a href=\"https://colab.research.google.com/github/wcj365/learn_llm/blob/main/download_models.ipynb\" target=\"_parent\"><img src=\"https://colab.research.google.com/assets/colab-badge.svg\" alt=\"Open In Colab\"/></a>"
      ]
    },
    {
      "cell_type": "code",
      "source": [
        "from google.colab import drive\n",
        "drive.mount('/content/drive')"
      ],
      "metadata": {
        "colab": {
          "base_uri": "https://localhost:8080/"
        },
        "id": "6DVx6X-OqEmE",
        "outputId": "54bf1b8f-6a30-4b0d-83a2-a3e367aa55d7"
      },
      "execution_count": 2,
      "outputs": [
        {
          "output_type": "stream",
          "name": "stdout",
          "text": [
            "Mounted at /content/drive\n"
          ]
        }
      ]
    },
    {
      "cell_type": "code",
      "execution_count": 10,
      "metadata": {
        "colab": {
          "base_uri": "https://localhost:8080/",
          "height": 145,
          "referenced_widgets": [
            "5b86f1c84d8946a9be3057ae52b1924e",
            "05f78d981e414a74bfa8fe250840ae8c",
            "28090704842f449dae127f23b7b7eea3",
            "9d2de99b76b0444b98f37ca1541334a7",
            "836476014a0045a58c6843bde26f25eb",
            "8818fd9347434ee0a0c1ab2c5c1a085e",
            "a588403b8e734f06829b6e1ea63b67dc",
            "90aff5d104484357a0e8151cffa891d0",
            "d2163c9faf28405e8e004c3f435144ba",
            "cca7e100c16346228bf2c325a489d130",
            "75a21223b0bd4ec7a1b69c212ded98cf",
            "d15bb467da6948319ec17398015b66e1",
            "726e968d1f394355a5446349fb419007",
            "dcf308ef5cee4995b5eb653171005887",
            "91be5289e42345c39445e0ef71daebbb",
            "d3f026a2d71e46a0b1a49aab6b43ca0f",
            "66806b86cf034078ba49723f637ff4c5",
            "f03cf442ef21445fa4458b1c79e0d01b",
            "df73fccbaeb94b23a748beac05e708d6",
            "0577be06e88b417593be280d01ea6d5e",
            "5a0496fbdabe418ba2b8c6280ea212cd",
            "4549042b0ea34a01932ba6ec843abea4",
            "23c9de470b5d486280f1c75f07f4c452",
            "ca01cfe32c3648b2bebff4205d28186b",
            "739df4a3a45847e4b86c7649e6b5676f",
            "892678d93dc14839899584d35e38aebe",
            "f5fe0e66496e4e0092f530926bd6d8e0",
            "46ef904f261240af993f4c0c224b7118",
            "77e6afa4b7454ca69ea6d24de3e5d4f2",
            "1ecd87da9acc498cb22bf0f5dc85aba0",
            "222443c541c24cd7afc0186a8bfa6128",
            "6b3bb789622947fc89f1f05babba7011",
            "5852a7d76e9643dfb587308482afaccb",
            "f3d126093d844131a7b405e0227fd5e7",
            "cc2b6c1c645040e5a11a20c817b6bfc0",
            "b17704a192524072b8781ee745ba03b2",
            "05032f6fb77f4531a5d538fca05c911b",
            "4fb8fccb1548473dbde755c7bfcabf40",
            "c76484e047634bf2bde86d2377b7e2fc",
            "8ab61e86db534803bfce5907fe958948",
            "73e0f0dcb0b944dc97aa3efba4574cb8",
            "803378d8a019456293d5af6375900459",
            "18f252847283438e9bc1ea449bbe7745",
            "8fba77bb16b746aa9bd76c2f81a7ffc7"
          ]
        },
        "id": "UxYy2-8ip-rj",
        "outputId": "7efe5bbe-ba7e-477a-acc2-b3c27e3f9f3a"
      },
      "outputs": [
        {
          "output_type": "display_data",
          "data": {
            "text/plain": [
              "tokenizer_config.json:   0%|          | 0.00/48.0 [00:00<?, ?B/s]"
            ],
            "application/vnd.jupyter.widget-view+json": {
              "version_major": 2,
              "version_minor": 0,
              "model_id": "5b86f1c84d8946a9be3057ae52b1924e"
            }
          },
          "metadata": {}
        },
        {
          "output_type": "display_data",
          "data": {
            "text/plain": [
              "config.json:   0%|          | 0.00/629 [00:00<?, ?B/s]"
            ],
            "application/vnd.jupyter.widget-view+json": {
              "version_major": 2,
              "version_minor": 0,
              "model_id": "d15bb467da6948319ec17398015b66e1"
            }
          },
          "metadata": {}
        },
        {
          "output_type": "display_data",
          "data": {
            "text/plain": [
              "vocab.txt:   0%|          | 0.00/232k [00:00<?, ?B/s]"
            ],
            "application/vnd.jupyter.widget-view+json": {
              "version_major": 2,
              "version_minor": 0,
              "model_id": "23c9de470b5d486280f1c75f07f4c452"
            }
          },
          "metadata": {}
        },
        {
          "output_type": "display_data",
          "data": {
            "text/plain": [
              "model.safetensors:   0%|          | 0.00/268M [00:00<?, ?B/s]"
            ],
            "application/vnd.jupyter.widget-view+json": {
              "version_major": 2,
              "version_minor": 0,
              "model_id": "f3d126093d844131a7b405e0227fd5e7"
            }
          },
          "metadata": {}
        }
      ],
      "source": [
        "from transformers import AutoTokenizer, AutoModelForSequenceClassification\n",
        "\n",
        "model_name = \"distilbert-base-uncased-finetuned-sst-2-english\"\n",
        "save_directory = \"/content/drive/MyDrive/huggingface_models/{model_name}\"\n",
        "\n",
        "# Load from Hugging Face Hub\n",
        "tokenizer = AutoTokenizer.from_pretrained(model_name)\n",
        "model = AutoModelForSequenceClassification.from_pretrained(model_name)\n",
        "\n",
        "# Save to local folder\n",
        "tokenizer.save_pretrained(save_directory)\n",
        "model.save_pretrained(save_directory)"
      ]
    }
  ]
}
